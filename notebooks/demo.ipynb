{
  "nbformat": 4,
  "nbformat_minor": 5,
  "metadata": {
    "kernelspec": {
      "display_name": "Python 3 (Spark)",
      "language": "python",
      "name": "python3"
    },
    "language_info": {
      "name": "python",
      "version": "3.10"
    }
  },
  "cells": [
    {
      "cell_type": "markdown",
      "metadata": {},
      "source": [
        "# Polaris Catalog Credential Vending Fine-Grained RBAC per Table Demo 🚀\n",
        "\n",
        "<div class=\"alert alert-info\">\n",
        "Walk through how Polaris credential vending with Ceph’s IAM/STS APIs enforces table-level access control in Iceberg.\n",
        "</div>"
      ]
    },
    {
      "cell_type": "markdown",
      "metadata": {},
      "source": [
        "## Table of Contents\n",
        "- [Load Tokens](#load-tokens)\n",
        "- [Sessions Setup](#sessions-setup)\n",
        "- [Charlie: Inspect `polaris.prod_ns` Tables](#charlie-inspect)\n",
        "- [Charlie: Load CSV into `products` Table](#charlie-load)\n",
        "- [Charlie: Verify `products` Table](#charlie-verify)\n",
        "- [Alice: List Tables in `prod_ns` (❌)](#alice-list)\n",
        "- [Alice: Insert into `prod_ns.eu_user`](#alice-insert-eu)\n",
        "- [Alice: Read from `prod_ns.products`](#alice-read)\n",
        "- [Alice: Products per Category Chart](#alice-chart)\n",
        "- [Alice: Insert into `prod_ns.us_user` (❌)](#alice-insert-us)\n"
      ]
    },
    {
      "cell_type": "markdown",
      "metadata": {},
      "source": [
        "<a id=\"load-tokens\"></a>\n",
        "## 1️⃣ Load OAuth2 Tokens\n",
        "\n",
        "Pull in the JSON tokens Terraform minted for Charlie, Alice and Bob, and display them cleanly with **pprint**."
      ]
    },
    {
      "cell_type": "code",
      "execution_count": 1,
      "metadata": {},
      "source": [
        "import json, pathlib, pprint\n",
        "\n",
        "TOKENS = json.loads(pathlib.Path('/home/jovyan/work/tokens.json').read_text())\n",
        "CHARLIE_TOKEN = TOKENS['charlie']\n",
        "ALICE_TOKEN   = TOKENS['alice']\n",
        "BOB_TOKEN     = TOKENS['bob']\n",
        "\n",
        "print('Tokens loaded for:')\n",
        "pprint.pprint(TOKENS, width=1)"
      ]
    },
    {
      "cell_type": "markdown",
      "metadata": {},
      "source": [
        "<a id=\"sessions-setup\"></a>\n",
        "## 2️⃣ Spark Sessions Setup\n",
        "\n",
        "**Charlie** initializes a SparkSession with admin credentials (polaris catalog).  \n",
        "Then we **clone** that session for Alice and Bob, swapping in their tokens to scope permissions per table."
      ]
    },
    {
      "cell_type": "code",
      "execution_count": 2,
      "metadata": {},
      "source": [
        "from pyspark.sql import SparkSession\n",
        "from py4j.protocol import Py4JJavaError\n",
        "\n",
        "charlie = (\n",
        "    SparkSession.builder\n",
        "        .appName('polaris-admin')\n",
        "        .config('spark.jars.packages',\n",
        "            'org.apache.iceberg:iceberg-spark-runtime-3.5_2.12:1.7.1,org.apache.hadoop:hadoop-aws:3.4.0')\n",
        "        .config('spark.sql.extensions', 'org.apache.iceberg.spark.extensions.IcebergSparkSessionExtensions')\n",
        "        .config('spark.sql.catalog.polaris', 'org.apache.iceberg.spark.SparkCatalog')\n",
        "        .config('spark.sql.catalog.polaris.type', 'rest')\n",
        "        .config('spark.sql.catalog.polaris.uri', 'http://polaris:8181/api/catalog')\n",
        "        .config('spark.sql.catalog.polaris.warehouse', 'prod')\n",
        "        .config('spark.sql.catalog.polaris.header.X-Iceberg-Access-Delegation', 'vended-credentials')\n",
        "        .config('spark.sql.catalog.polaris.token', CHARLIE_TOKEN)\n",
        "        .config('spark.sql.defaultCatalog', 'polaris')\n",
        "        .getOrCreate()\n",
        ")\n",
        "print('Session: Charlie (admin)')\n",
        "\n",
        "# Clone to Alice & Bob\n",
        "alice = charlie.newSession()\n",
        "alice.conf.set('spark.sql.catalog.polaris.token', ALICE_TOKEN)\n",
        "print('Session: Alice →', ALICE_TOKEN[:8] + '...')\n",
        "\n",
        "bob = charlie.newSession()\n",
        "bob.conf.set('spark.sql.catalog.polaris.token', BOB_TOKEN)\n",
        "print('Session: Bob   →', BOB_TOKEN[:8] + '...')"
      ]
    },
    {
      "cell_type": "markdown",
      "metadata": {},
      "source": [
        "<a id=\"charlie-inspect\"></a>\n",
        "## 3️⃣ Charlie: Inspect `polaris.prod_ns` Tables\n",
        "\n",
        "As **admin**, Charlie lists all tables in the `prod_ns` namespace."
      ]
    },
    {
      "cell_type": "code",
      "execution_count": 3,
      "metadata": {},
      "source": [
        "import pandas as pd\n",
        "from IPython.display import display\n",
        "\n",
        "tbls = charlie.sql('SHOW TABLES IN polaris.prod_ns').toPandas()\n",
        "display(tbls)"
      ]
    },
    {
      "cell_type": "markdown",
      "metadata": {},
      "source": [
        "<a id=\"charlie-load\"></a>\n",
        "## 4️⃣ Charlie: Load Products CSV into `products` Table\n",
        "\n",
        "Read the local `products.csv` file and **append** it into the Iceberg table `polaris.prod_ns.products`."
      ]
    },
    {
      "cell_type": "code",
      "execution_count": 4,
      "metadata": {},
      "source": [
        "df = (\n",
        "    charlie.read\n",
        "        .option('header', True)\n",
        "        .option('inferSchema', True)\n",
        "        .csv('/home/jovyan/work/products.csv')\n",
        ")\n",
        "df.writeTo('polaris.prod_ns.products').append()\n",
        "print('✅ Data loaded into products table')"
      ]
    },
    {
      "cell_type": "markdown",
      "metadata": {},
      "source": [
        "<a id=\"charlie-verify\"></a>\n",
        "## 5️⃣ Charlie: Verify `products` Table\n",
        "\n",
        "Confirm rows in `polaris.prod_ns.products` by selecting the first five entries."
      ]
    },
    {
      "cell_type": "code",
      "execution_count": 5,
      "metadata": {},
      "source": [
        "pdf = charlie.sql('SELECT * FROM polaris.prod_ns.products LIMIT 5').toPandas()\n",
        "display(pdf)"
      ]
    },
    {
      "cell_type": "markdown",
      "metadata": {},
      "source": [
        "<a id=\"alice-list\"></a>\n",
        "## 6️⃣ Alice: List Tables in `prod_ns` (❌)\n",
        "\n",
        "<div class=\"alert alert-danger\">\n",
        "Alice does **not** have the `LIST_TABLES` privilege in `polaris.prod_ns`, so this will fail.\n",
        "</div>"
      ]
    },
    {
      "cell_type": "code",
      "execution_count": 6,
      "metadata": {},
      "source": [
        "from IPython.display import HTML, display\n",
        "import pyspark\n",
        "\n",
        "print('SHOW TABLES as Alice...')\n",
        "try:\n",
        "    alice.sql('SHOW TABLES IN polaris.prod_ns').show()\n",
        "except (pyspark.sql.utils.AnalysisException, Py4JJavaError) as e:\n",
        "    msg = e.desc if hasattr(e, 'desc') else e.java_exception.getMessage()\n",
        "    display(HTML(f\"<div class='alert alert-danger'><b>🔒 {msg}</b></div>\"))"
      ]
    },
    {
      "cell_type": "markdown",
      "metadata": {},
      "source": [
        "<a id=\"alice-insert-eu\"></a>\n",
        "## 7️⃣ Alice: Insert into `eu_user` Table\n",
        "\n",
        "<div class=\"alert alert-success\">\n",
        "Alice’s **eu_data_admin** role grants INSERT on `polaris.prod_ns.eu_user`.\n",
        "</div>"
      ]
    },
    {
      "cell_type": "code",
      "execution_count": 7,
      "metadata": {},
      "source": [
        "import pandas as pd\n",
        "from IPython.display import display\n",
        "\n",
        "print('INSERT into eu_user...')\n",
        "alice.sql(\"\"\"\n",
        "INSERT INTO polaris.prod_ns.eu_user VALUES\n",
        "  (1001,'alice.w@example','alice@example.com','FR',TIMESTAMP '2025-05-21 10:15:00',NULL)\n",
        "\"\"\")\n",
        "pdf_eu = alice.sql('SELECT * FROM polaris.prod_ns.eu_user LIMIT 5').toPandas()\n",
        "display(pdf_eu)"
      ]
    },
    {
      "cell_type": "markdown",
      "metadata": {},
      "source": [
        "<a id=\"alice-read\"></a>\n",
        "## 8️⃣ Alice: Read from `products` Table\n",
        "\n",
        "<div class=\"alert alert-info\">\n",
        "Alice can **SELECT** from `polaris.prod_ns.products` thanks to her read privileges.\n",
        "</div>"
      ]
    },
    {
      "cell_type": "code",
      "execution_count": 8,
      "metadata": {},
      "source": [
        "import pandas as pd\n",
        "from IPython.display import display\n",
        "\n",
        "print('SELECT from products...')\n",
        "pdf3 = alice.sql('SELECT * FROM polaris.prod_ns.products LIMIT 5').toPandas()\n",
        "display(pdf3)"
      ]
    },
    {
      "cell_type": "markdown",
      "metadata": {},
      "source": [
        "<a id=\"alice-chart\"></a>\n",
        "### 📊 Alice: Products per Category Chart for `products`\n",
        "\n",
        "Visualize row counts per category from `polaris.prod_ns.products`."
      ]
    },
    {
      "cell_type": "code",
      "execution_count": 9,
      "metadata": {},
      "source": [
        "prod_df = alice.sql(\n",
        "    '''\n",
        "    SELECT category, COUNT(*) AS cnt\n",
        "    FROM polaris.prod_ns.products\n",
        "    GROUP BY category\n",
        "    '''\n",
        ").toPandas()\n",
        "prod_df.plot.bar(x='category', y='cnt', title='Products per Category')"
      ]
    },
    {
      "cell_type": "markdown",
      "metadata": {},
      "source": [
        "<a id=\"alice-insert-us\"></a>\n",
        "## 9️⃣ Alice: Insert into `us_user` Table (❌)\n",
        "\n",
        "<div class=\"alert alert-danger\">\n",
        "Alice’s role does **not** include INSERT on `polaris.prod_ns.us_user`, so this will fail.\n",
        "</div>"
      ]
    },
    {
      "cell_type": "code",
      "execution_count": 10,
      "metadata": {},
      "source": [
        "from IPython.display import HTML, display\n",
        "import pyspark\n",
        "\n",
        "print('INSERT as Alice...')\n",
        "try:\n",
        "    alice.sql(\"INSERT INTO polaris.prod_ns.us_user VALUES (2001,'x','x','US',CURRENT_TIMESTAMP,NULL)\")\n",
        "except (pyspark.sql.utils.AnalysisException, Py4JJavaError) as e:\n",
        "    msg = e.desc if hasattr(e, 'desc') else e.java_exception.getMessage()\n",
        "    display(HTML(f\"<div class='alert alert-danger'><b>🔒 {msg}</b></div>\"))"
      ]
    }
  ]
}

